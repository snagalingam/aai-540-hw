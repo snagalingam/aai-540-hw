{
 "cells": [
  {
   "cell_type": "markdown",
   "id": "b6e7e36f-4829-42e4-bf20-ddbc8c705538",
   "metadata": {
    "tags": []
   },
   "source": [
    "# Assignment 4.1: Feature Store - Exercise\n",
    "Sinthuja Bates"
   ]
  },
  {
   "cell_type": "code",
   "execution_count": 2,
   "id": "c50eba06-36d0-4f83-9924-fdf0739b04cf",
   "metadata": {
    "tags": []
   },
   "outputs": [
    {
     "name": "stdout",
     "output_type": "stream",
     "text": [
      "sagemaker.config INFO - Not applying SDK defaults from location: /etc/xdg/sagemaker/config.yaml\n",
      "sagemaker.config INFO - Not applying SDK defaults from location: /root/.config/sagemaker/config.yaml\n"
     ]
    }
   ],
   "source": [
    "import time\n",
    "import os\n",
    "from sagemaker import get_execution_role, session\n",
    "import boto3\n",
    "\n",
    "region = boto3.Session().region_name\n",
    "role = get_execution_role()\n",
    "sm_client = boto3.client('sagemaker', region_name=region)"
   ]
  },
  {
   "cell_type": "markdown",
   "id": "38a9b43a-cf86-4aac-b2dc-f3e587ca87a9",
   "metadata": {},
   "source": [
    "## Part 1: Set Up Model Group"
   ]
  },
  {
   "cell_type": "code",
   "execution_count": 3,
   "id": "bfeb911b-d789-4019-bbf8-fddc4d3ad81b",
   "metadata": {
    "tags": []
   },
   "outputs": [
    {
     "name": "stdout",
     "output_type": "stream",
     "text": [
      "ModelPackageGroupArn: arn:aws:sagemaker:us-east-1:711667138246:model-package-group/xgboost-breast-cancer-detection\n"
     ]
    }
   ],
   "source": [
    "model_package_group_name = 'xgboost-breast-cancer-detection'\n",
    "\n",
    "response = sm_client.create_model_package_group(\n",
    "    ModelPackageGroupName=model_package_group_name,\n",
    "    ModelPackageGroupDescription=\"Group for XGBoost models aimed at detecting breast cancer using various clinical features.\"\n",
    ")\n",
    "print('ModelPackageGroupArn: {}'.format(response['ModelPackageGroupArn']))"
   ]
  },
  {
   "cell_type": "code",
   "execution_count": 4,
   "id": "3696c110-431b-40e7-baf9-14dc9d3282b3",
   "metadata": {
    "tags": []
   },
   "outputs": [
    {
     "name": "stdout",
     "output_type": "stream",
     "text": [
      "{'ModelPackageGroupName': 'xgboost-breast-cancer-detection', 'ModelPackageGroupArn': 'arn:aws:sagemaker:us-east-1:711667138246:model-package-group/xgboost-breast-cancer-detection', 'ModelPackageGroupDescription': 'Group for XGBoost models aimed at detecting breast cancer using various clinical features.', 'CreationTime': datetime.datetime(2024, 6, 2, 17, 21, 57, 596000, tzinfo=tzlocal()), 'CreatedBy': {'UserProfileArn': 'arn:aws:sagemaker:us-east-1:711667138246:user-profile/d-bnyjs4fnucfp/snagalingam', 'UserProfileName': 'snagalingam', 'DomainId': 'd-bnyjs4fnucfp', 'IamIdentity': {'Arn': 'arn:aws:sts::711667138246:assumed-role/LabRole/SageMaker', 'PrincipalId': 'AROA2LMVKX3DIVFDWDQ6T:SageMaker'}}, 'ModelPackageGroupStatus': 'Completed', 'ResponseMetadata': {'RequestId': '5edc342d-49a6-4db3-b530-5e2b6086e4b0', 'HTTPStatusCode': 200, 'HTTPHeaders': {'x-amzn-requestid': '5edc342d-49a6-4db3-b530-5e2b6086e4b0', 'content-type': 'application/x-amz-json-1.1', 'content-length': '674', 'date': 'Sun, 02 Jun 2024 17:21:57 GMT'}, 'RetryAttempts': 0}}\n"
     ]
    }
   ],
   "source": [
    "description = sm_client.describe_model_package_group(\n",
    "    ModelPackageGroupName=model_package_group_name\n",
    ")\n",
    "print(description)"
   ]
  },
  {
   "cell_type": "markdown",
   "id": "89815662-596d-43ff-b4cf-24fabbfae069",
   "metadata": {},
   "source": [
    "## Part 2: Set Up Model Package"
   ]
  },
  {
   "cell_type": "code",
   "execution_count": 5,
   "id": "4690960a-7489-4c59-a8f2-a0c70c84e97c",
   "metadata": {
    "tags": []
   },
   "outputs": [
    {
     "name": "stdout",
     "output_type": "stream",
     "text": [
      "ModelPackageArn: arn:aws:sagemaker:us-east-1:711667138246:model-package/xgboost-breast-cancer-detection/1\n"
     ]
    }
   ],
   "source": [
    "image = '683313688378.dkr.ecr.us-east-1.amazonaws.com/sagemaker-xgboost:1.7-1'\n",
    "model_artifact = 's3://sagemaker-us-east-1-711667138246/DEMO-breast-cancer-prediction-xgboost-highlevel/output/xgb-2024-06-01-16-26-21/xgb-2024-06-01-16-26-21/output/model.tar.gz'\n",
    "model_data_source = 's3://sagemaker-us-east-1-711667138246/DEMO-breast-cancer-prediction-xgboost-highlevel/train/'\n",
    "\n",
    "response = sm_client.create_model_package(\n",
    "    ModelPackageGroupName=model_package_group_name,\n",
    "    ModelPackageDescription='Model package for breast cancer detection using XGBoost',\n",
    "    InferenceSpecification={\n",
    "        'Containers': [{\n",
    "            'Image': image,\n",
    "            'ModelDataUrl': model_artifact,\n",
    "            'Environment': {\n",
    "                'SAGEMAKER_SUBMIT_DIRECTORY': \"s3://sagemaker-us-east-1-711667138246/model-scripts/\",\n",
    "                'SAGEMAKER_PROGRAM': 'inference.py',\n",
    "                'SAGEMAKER_CONTAINER_LOG_LEVEL': '20',\n",
    "                'SAGEMAKER_REGION': region\n",
    "            }\n",
    "        }],\n",
    "        'SupportedTransformInstanceTypes': ['ml.m5.large'],\n",
    "        'SupportedRealtimeInferenceInstanceTypes': ['ml.m5.large'],\n",
    "        'SupportedContentTypes': ['text/csv'],\n",
    "        'SupportedResponseMIMETypes': ['text/csv']\n",
    "    }\n",
    ")\n",
    "\n",
    "print('ModelPackageArn: {}'.format(response['ModelPackageArn']))"
   ]
  },
  {
   "cell_type": "code",
   "execution_count": 6,
   "id": "2005977c-7ac5-4184-a4bc-bab74fec62b9",
   "metadata": {
    "tags": []
   },
   "outputs": [
    {
     "name": "stdout",
     "output_type": "stream",
     "text": [
      "{'ModelPackageGroupName': 'xgboost-breast-cancer-detection', 'ModelPackageVersion': 1, 'ModelPackageArn': 'arn:aws:sagemaker:us-east-1:711667138246:model-package/xgboost-breast-cancer-detection/1', 'ModelPackageDescription': 'Model package for breast cancer detection using XGBoost', 'CreationTime': datetime.datetime(2024, 6, 2, 17, 21, 58, 86000, tzinfo=tzlocal()), 'InferenceSpecification': {'Containers': [{'Image': '683313688378.dkr.ecr.us-east-1.amazonaws.com/sagemaker-xgboost:1.7-1', 'ImageDigest': 'sha256:cf81520a3b695293022793e292cf8bc3732b79231a6ebe1fb308086f6163a875', 'ModelDataUrl': 's3://sagemaker-us-east-1-711667138246/DEMO-breast-cancer-prediction-xgboost-highlevel/output/xgb-2024-06-01-16-26-21/xgb-2024-06-01-16-26-21/output/model.tar.gz', 'Environment': {'SAGEMAKER_CONTAINER_LOG_LEVEL': '20', 'SAGEMAKER_PROGRAM': 'inference.py', 'SAGEMAKER_REGION': 'us-east-1', 'SAGEMAKER_SUBMIT_DIRECTORY': 's3://sagemaker-us-east-1-711667138246/model-scripts/'}}], 'SupportedTransformInstanceTypes': ['ml.m5.large'], 'SupportedRealtimeInferenceInstanceTypes': ['ml.m5.large'], 'SupportedContentTypes': ['text/csv'], 'SupportedResponseMIMETypes': ['text/csv']}, 'ModelPackageStatus': 'Completed', 'ModelPackageStatusDetails': {'ValidationStatuses': [], 'ImageScanStatuses': []}, 'CertifyForMarketplace': False, 'CreatedBy': {'UserProfileArn': 'arn:aws:sagemaker:us-east-1:711667138246:user-profile/d-bnyjs4fnucfp/snagalingam', 'UserProfileName': 'snagalingam', 'DomainId': 'd-bnyjs4fnucfp', 'IamIdentity': {'Arn': 'arn:aws:sts::711667138246:assumed-role/LabRole/SageMaker', 'PrincipalId': 'AROA2LMVKX3DIVFDWDQ6T:SageMaker'}}, 'ResponseMetadata': {'RequestId': '7a376227-e63d-4f38-8ad6-a49524c1d7b1', 'HTTPStatusCode': 200, 'HTTPHeaders': {'x-amzn-requestid': '7a376227-e63d-4f38-8ad6-a49524c1d7b1', 'content-type': 'application/x-amz-json-1.1', 'content-length': '1530', 'date': 'Sun, 02 Jun 2024 17:21:58 GMT'}, 'RetryAttempts': 0}}\n"
     ]
    }
   ],
   "source": [
    "model_package_arn = response['ModelPackageArn']\n",
    "\n",
    "description = sm_client.describe_model_package(\n",
    "    ModelPackageName=model_package_arn\n",
    ")\n",
    "print(description)"
   ]
  },
  {
   "cell_type": "markdown",
   "id": "c4ea563c-ad82-4b61-8f45-8ca3ccfbea2f",
   "metadata": {
    "tags": []
   },
   "source": [
    "## Part 3: Write the Model Card"
   ]
  },
  {
   "cell_type": "code",
   "execution_count": 7,
   "id": "234ec6db-a877-41af-8c58-d25d2a991c52",
   "metadata": {
    "tags": []
   },
   "outputs": [
    {
     "name": "stdout",
     "output_type": "stream",
     "text": [
      "Model card BreastCancerDetection-XGBoost-ModelCard is successfully created with id arn:aws:sagemaker:us-east-1:711667138246:model-card/BreastCancerDetection-XGBoost-ModelCard\n"
     ]
    }
   ],
   "source": [
    "import sagemaker\n",
    "from sagemaker.model_card import (\n",
    "    ModelCard,\n",
    "    ModelOverview,\n",
    "    ObjectiveFunction,\n",
    "    Function,\n",
    "    TrainingDetails,\n",
    "    IntendedUses,\n",
    "    BusinessDetails,\n",
    "    EvaluationJob,\n",
    "    AdditionalInformation,\n",
    "    Metric,\n",
    "    MetricGroup,\n",
    "    ModelCardStatusEnum,\n",
    "    ObjectiveFunctionEnum,\n",
    "    FacetEnum,\n",
    "    RiskRatingEnum,\n",
    "    MetricTypeEnum,\n",
    "    EvaluationMetricTypeEnum,\n",
    ")\n",
    "sess = sagemaker.Session()\n",
    "\n",
    "model_overview = ModelOverview.from_model_name(\n",
    "    model_name=\"sagemaker-xgboost-2024-06-01-16-29-16-090\",\n",
    "    sagemaker_session=sess,\n",
    "    model_description=\"This model uses XGBoost to detect breast cancer based on various clinical features. It is designed to provide healthcare professionals with a predictive tool to improve diagnostic accuracy.\",\n",
    "    problem_type=\"Binary Classification\",\n",
    "    algorithm_type=\"XGBoost\",\n",
    "    model_creator=\"Sinthuja Bates\",\n",
    "    model_owner=\"USD\",\n",
    ")\n",
    "\n",
    "objective_function = ObjectiveFunction(\n",
    "    function=Function(\n",
    "        function=ObjectiveFunctionEnum.MINIMIZE, \n",
    "        facet=FacetEnum.LOSS, \n",
    "    ),\n",
    "    notes=\"Objective is to minimize the binary logistic loss for better classification accuracy.\"\n",
    ")\n",
    "\n",
    "training_details = TrainingDetails.from_model_overview(\n",
    "    model_overview=model_overview,\n",
    "    sagemaker_session=sess,\n",
    "    objective_function=objective_function,\n",
    "    training_observations=\"Model trained on Breast Cancer Wisconsin (Diagnostic) Dataset with XGBoost. \\\n",
    "                           Key hyperparameters included max_depth=5, eta=0.2, and num_round=100. \\\n",
    "                           The model aims to optimize accuracy while minimizing the log loss.\"\n",
    ")\n",
    "\n",
    "manual_metric_group = MetricGroup(\n",
    "    name=\"binary classification metrics\",\n",
    "    metric_data=[\n",
    "        Metric(name=\"accuracy\", type=MetricTypeEnum.NUMBER, value=0.95),  \n",
    "        Metric(name=\"precision\", type=MetricTypeEnum.NUMBER, value=0.94), \n",
    "        Metric(name=\"recall\", type=MetricTypeEnum.NUMBER, value=0.93),  \n",
    "        Metric(name=\"AUC\", type=MetricTypeEnum.NUMBER, value=0.96)  \n",
    "    ]\n",
    ")\n",
    "\n",
    "\n",
    "example_evaluation_job = EvaluationJob(\n",
    "    name=\"BreastCancerDetection-Evaluation\",\n",
    "    evaluation_observation=\"The model evaluation was conducted on a held-out test set to assess performance metrics such as accuracy, precision, recall, and AUC, which are critical for clinical diagnostic tools.\",\n",
    "    metric_groups=[manual_metric_group]\n",
    ")\n",
    "\n",
    "\n",
    "evaluation_details = [example_evaluation_job]\n",
    "\n",
    "intended_uses = IntendedUses(\n",
    "    purpose_of_model=\"Assist in early detection and diagnosis of breast cancer.\",\n",
    "    intended_uses=\"This model is intended for use in clinical settings to support healthcare professionals by providing an additional diagnostic tool.\",\n",
    "    factors_affecting_model_efficiency=\"Quality of input data, proper feature selection, and regular model retraining on up-to-date clinical data.\",\n",
    "    risk_rating=RiskRatingEnum.MEDIUM,\n",
    "    explanations_for_risk_rating=\"While the model aims to assist healthcare professionals, it should not be used as the sole method of diagnosis without human oversight.\",\n",
    ")\n",
    "\n",
    "model_card_name = \"BreastCancerDetection-XGBoost-ModelCard\"\n",
    "my_card = ModelCard(\n",
    "    name=model_card_name,\n",
    "    status=ModelCardStatusEnum.DRAFT,\n",
    "    model_overview=model_overview,\n",
    "    training_details=training_details,\n",
    "    evaluation_details=evaluation_details,\n",
    "    intended_uses=intended_uses,\n",
    "    sagemaker_session=sess,\n",
    ")\n",
    "my_card.create()\n",
    "print(f\"Model card {my_card.name} is successfully created with id {my_card.arn}\")"
   ]
  },
  {
   "cell_type": "code",
   "execution_count": 8,
   "id": "f5fe214a-444a-45fd-b486-920ffa8fc717",
   "metadata": {
    "tags": []
   },
   "outputs": [
    {
     "name": "stdout",
     "output_type": "stream",
     "text": [
      "{'ModelCardArn': 'arn:aws:sagemaker:us-east-1:711667138246:model-card/BreastCancerDetection-XGBoost-ModelCard', 'ModelCardName': 'BreastCancerDetection-XGBoost-ModelCard', 'ModelCardVersion': 1, 'Content': '{\"model_overview\": {\"model_id\": \"arn:aws:sagemaker:us-east-1:711667138246:model/sagemaker-xgboost-2024-06-01-16-29-16-090\", \"model_name\": \"sagemaker-xgboost-2024-06-01-16-29-16-090\", \"model_description\": \"This model uses XGBoost to detect breast cancer based on various clinical features. It is designed to provide healthcare professionals with a predictive tool to improve diagnostic accuracy.\", \"problem_type\": \"Binary Classification\", \"algorithm_type\": \"XGBoost\", \"model_creator\": \"Sinthuja Bates\", \"model_owner\": \"USD\", \"model_artifact\": [\"s3://sagemaker-us-east-1-711667138246/DEMO-breast-cancer-prediction-xgboost-highlevel/output/xgb-2024-06-01-16-26-21/xgb-2024-06-01-16-26-21/output/model.tar.gz\"], \"inference_environment\": {\"container_image\": [\"683313688378.dkr.ecr.us-east-1.amazonaws.com/sagemaker-xgboost:1.7-1\"]}}, \"intended_uses\": {\"purpose_of_model\": \"Assist in early detection and diagnosis of breast cancer.\", \"intended_uses\": \"This model is intended for use in clinical settings to support healthcare professionals by providing an additional diagnostic tool.\", \"factors_affecting_model_efficiency\": \"Quality of input data, proper feature selection, and regular model retraining on up-to-date clinical data.\", \"risk_rating\": \"Medium\", \"explanations_for_risk_rating\": \"While the model aims to assist healthcare professionals, it should not be used as the sole method of diagnosis without human oversight.\"}, \"training_details\": {\"objective_function\": {\"function\": {\"function\": \"Minimize\", \"facet\": \"Loss\"}, \"notes\": \"Objective is to minimize the binary logistic loss for better classification accuracy.\"}, \"training_observations\": \"Model trained on Breast Cancer Wisconsin (Diagnostic) Dataset with XGBoost.                            Key hyperparameters included max_depth=5, eta=0.2, and num_round=100.                            The model aims to optimize accuracy while minimizing the log loss.\", \"training_job_details\": {\"training_arn\": \"arn:aws:sagemaker:us-east-1:711667138246:training-job/xgb-2024-06-01-16-26-21\", \"training_datasets\": [], \"training_environment\": {\"container_image\": [\"683313688378.dkr.ecr.us-east-1.amazonaws.com/sagemaker-xgboost:1.7-1\"]}, \"training_metrics\": [{\"name\": \"validation:logloss\", \"value\": 0.015189999714493752}, {\"name\": \"train:logloss\", \"value\": 0.015189999714493752}], \"user_provided_training_metrics\": [], \"hyper_parameters\": [{\"name\": \"eta\", \"value\": \"0.2\"}, {\"name\": \"gamma\", \"value\": \"4\"}, {\"name\": \"max_depth\", \"value\": \"5\"}, {\"name\": \"min_child_weight\", \"value\": \"6\"}, {\"name\": \"num_round\", \"value\": \"100\"}, {\"name\": \"objective\", \"value\": \"binary:logistic\"}, {\"name\": \"subsample\", \"value\": \"0.8\"}, {\"name\": \"verbosity\", \"value\": \"0\"}], \"user_provided_hyper_parameters\": []}}, \"evaluation_details\": [{\"name\": \"BreastCancerDetection-Evaluation\", \"evaluation_observation\": \"The model evaluation was conducted on a held-out test set to assess performance metrics such as accuracy, precision, recall, and AUC, which are critical for clinical diagnostic tools.\", \"datasets\": [], \"metric_groups\": [{\"name\": \"binary classification metrics\", \"metric_data\": [{\"name\": \"accuracy\", \"type\": \"number\", \"value\": 0.95}, {\"name\": \"precision\", \"type\": \"number\", \"value\": 0.94}, {\"name\": \"recall\", \"type\": \"number\", \"value\": 0.93}, {\"name\": \"AUC\", \"type\": \"number\", \"value\": 0.96}]}]}]}', 'ModelCardStatus': 'Draft', 'CreationTime': datetime.datetime(2024, 6, 2, 17, 21, 58, 640000, tzinfo=tzlocal()), 'CreatedBy': {'UserProfileArn': 'arn:aws:sagemaker:us-east-1:711667138246:user-profile/d-bnyjs4fnucfp/snagalingam', 'UserProfileName': 'snagalingam', 'DomainId': 'd-bnyjs4fnucfp'}, 'LastModifiedTime': datetime.datetime(2024, 6, 2, 17, 21, 58, 640000, tzinfo=tzlocal()), 'LastModifiedBy': {'UserProfileArn': 'arn:aws:sagemaker:us-east-1:711667138246:user-profile/d-bnyjs4fnucfp/snagalingam', 'UserProfileName': 'snagalingam', 'DomainId': 'd-bnyjs4fnucfp'}, 'ResponseMetadata': {'RequestId': '1fcd129d-cb25-4e8d-99e9-c3a2e3ad422e', 'HTTPStatusCode': 200, 'HTTPHeaders': {'x-amzn-requestid': '1fcd129d-cb25-4e8d-99e9-c3a2e3ad422e', 'content-type': 'application/x-amz-json-1.1', 'content-length': '4220', 'date': 'Sun, 02 Jun 2024 17:21:59 GMT'}, 'RetryAttempts': 0}}\n"
     ]
    }
   ],
   "source": [
    "model_card_arn = my_card.arn\n",
    "\n",
    "description = sm_client.describe_model_card(\n",
    "    ModelCardName=model_card_arn\n",
    ")\n",
    "print(description)"
   ]
  }
 ],
 "metadata": {
  "availableInstances": [
   {
    "_defaultOrder": 0,
    "_isFastLaunch": true,
    "category": "General purpose",
    "gpuNum": 0,
    "hideHardwareSpecs": false,
    "memoryGiB": 4,
    "name": "ml.t3.medium",
    "vcpuNum": 2
   },
   {
    "_defaultOrder": 1,
    "_isFastLaunch": false,
    "category": "General purpose",
    "gpuNum": 0,
    "hideHardwareSpecs": false,
    "memoryGiB": 8,
    "name": "ml.t3.large",
    "vcpuNum": 2
   },
   {
    "_defaultOrder": 2,
    "_isFastLaunch": false,
    "category": "General purpose",
    "gpuNum": 0,
    "hideHardwareSpecs": false,
    "memoryGiB": 16,
    "name": "ml.t3.xlarge",
    "vcpuNum": 4
   },
   {
    "_defaultOrder": 3,
    "_isFastLaunch": false,
    "category": "General purpose",
    "gpuNum": 0,
    "hideHardwareSpecs": false,
    "memoryGiB": 32,
    "name": "ml.t3.2xlarge",
    "vcpuNum": 8
   },
   {
    "_defaultOrder": 4,
    "_isFastLaunch": true,
    "category": "General purpose",
    "gpuNum": 0,
    "hideHardwareSpecs": false,
    "memoryGiB": 8,
    "name": "ml.m5.large",
    "vcpuNum": 2
   },
   {
    "_defaultOrder": 5,
    "_isFastLaunch": false,
    "category": "General purpose",
    "gpuNum": 0,
    "hideHardwareSpecs": false,
    "memoryGiB": 16,
    "name": "ml.m5.xlarge",
    "vcpuNum": 4
   },
   {
    "_defaultOrder": 6,
    "_isFastLaunch": false,
    "category": "General purpose",
    "gpuNum": 0,
    "hideHardwareSpecs": false,
    "memoryGiB": 32,
    "name": "ml.m5.2xlarge",
    "vcpuNum": 8
   },
   {
    "_defaultOrder": 7,
    "_isFastLaunch": false,
    "category": "General purpose",
    "gpuNum": 0,
    "hideHardwareSpecs": false,
    "memoryGiB": 64,
    "name": "ml.m5.4xlarge",
    "vcpuNum": 16
   },
   {
    "_defaultOrder": 8,
    "_isFastLaunch": false,
    "category": "General purpose",
    "gpuNum": 0,
    "hideHardwareSpecs": false,
    "memoryGiB": 128,
    "name": "ml.m5.8xlarge",
    "vcpuNum": 32
   },
   {
    "_defaultOrder": 9,
    "_isFastLaunch": false,
    "category": "General purpose",
    "gpuNum": 0,
    "hideHardwareSpecs": false,
    "memoryGiB": 192,
    "name": "ml.m5.12xlarge",
    "vcpuNum": 48
   },
   {
    "_defaultOrder": 10,
    "_isFastLaunch": false,
    "category": "General purpose",
    "gpuNum": 0,
    "hideHardwareSpecs": false,
    "memoryGiB": 256,
    "name": "ml.m5.16xlarge",
    "vcpuNum": 64
   },
   {
    "_defaultOrder": 11,
    "_isFastLaunch": false,
    "category": "General purpose",
    "gpuNum": 0,
    "hideHardwareSpecs": false,
    "memoryGiB": 384,
    "name": "ml.m5.24xlarge",
    "vcpuNum": 96
   },
   {
    "_defaultOrder": 12,
    "_isFastLaunch": false,
    "category": "General purpose",
    "gpuNum": 0,
    "hideHardwareSpecs": false,
    "memoryGiB": 8,
    "name": "ml.m5d.large",
    "vcpuNum": 2
   },
   {
    "_defaultOrder": 13,
    "_isFastLaunch": false,
    "category": "General purpose",
    "gpuNum": 0,
    "hideHardwareSpecs": false,
    "memoryGiB": 16,
    "name": "ml.m5d.xlarge",
    "vcpuNum": 4
   },
   {
    "_defaultOrder": 14,
    "_isFastLaunch": false,
    "category": "General purpose",
    "gpuNum": 0,
    "hideHardwareSpecs": false,
    "memoryGiB": 32,
    "name": "ml.m5d.2xlarge",
    "vcpuNum": 8
   },
   {
    "_defaultOrder": 15,
    "_isFastLaunch": false,
    "category": "General purpose",
    "gpuNum": 0,
    "hideHardwareSpecs": false,
    "memoryGiB": 64,
    "name": "ml.m5d.4xlarge",
    "vcpuNum": 16
   },
   {
    "_defaultOrder": 16,
    "_isFastLaunch": false,
    "category": "General purpose",
    "gpuNum": 0,
    "hideHardwareSpecs": false,
    "memoryGiB": 128,
    "name": "ml.m5d.8xlarge",
    "vcpuNum": 32
   },
   {
    "_defaultOrder": 17,
    "_isFastLaunch": false,
    "category": "General purpose",
    "gpuNum": 0,
    "hideHardwareSpecs": false,
    "memoryGiB": 192,
    "name": "ml.m5d.12xlarge",
    "vcpuNum": 48
   },
   {
    "_defaultOrder": 18,
    "_isFastLaunch": false,
    "category": "General purpose",
    "gpuNum": 0,
    "hideHardwareSpecs": false,
    "memoryGiB": 256,
    "name": "ml.m5d.16xlarge",
    "vcpuNum": 64
   },
   {
    "_defaultOrder": 19,
    "_isFastLaunch": false,
    "category": "General purpose",
    "gpuNum": 0,
    "hideHardwareSpecs": false,
    "memoryGiB": 384,
    "name": "ml.m5d.24xlarge",
    "vcpuNum": 96
   },
   {
    "_defaultOrder": 20,
    "_isFastLaunch": false,
    "category": "General purpose",
    "gpuNum": 0,
    "hideHardwareSpecs": true,
    "memoryGiB": 0,
    "name": "ml.geospatial.interactive",
    "supportedImageNames": [
     "sagemaker-geospatial-v1-0"
    ],
    "vcpuNum": 0
   },
   {
    "_defaultOrder": 21,
    "_isFastLaunch": true,
    "category": "Compute optimized",
    "gpuNum": 0,
    "hideHardwareSpecs": false,
    "memoryGiB": 4,
    "name": "ml.c5.large",
    "vcpuNum": 2
   },
   {
    "_defaultOrder": 22,
    "_isFastLaunch": false,
    "category": "Compute optimized",
    "gpuNum": 0,
    "hideHardwareSpecs": false,
    "memoryGiB": 8,
    "name": "ml.c5.xlarge",
    "vcpuNum": 4
   },
   {
    "_defaultOrder": 23,
    "_isFastLaunch": false,
    "category": "Compute optimized",
    "gpuNum": 0,
    "hideHardwareSpecs": false,
    "memoryGiB": 16,
    "name": "ml.c5.2xlarge",
    "vcpuNum": 8
   },
   {
    "_defaultOrder": 24,
    "_isFastLaunch": false,
    "category": "Compute optimized",
    "gpuNum": 0,
    "hideHardwareSpecs": false,
    "memoryGiB": 32,
    "name": "ml.c5.4xlarge",
    "vcpuNum": 16
   },
   {
    "_defaultOrder": 25,
    "_isFastLaunch": false,
    "category": "Compute optimized",
    "gpuNum": 0,
    "hideHardwareSpecs": false,
    "memoryGiB": 72,
    "name": "ml.c5.9xlarge",
    "vcpuNum": 36
   },
   {
    "_defaultOrder": 26,
    "_isFastLaunch": false,
    "category": "Compute optimized",
    "gpuNum": 0,
    "hideHardwareSpecs": false,
    "memoryGiB": 96,
    "name": "ml.c5.12xlarge",
    "vcpuNum": 48
   },
   {
    "_defaultOrder": 27,
    "_isFastLaunch": false,
    "category": "Compute optimized",
    "gpuNum": 0,
    "hideHardwareSpecs": false,
    "memoryGiB": 144,
    "name": "ml.c5.18xlarge",
    "vcpuNum": 72
   },
   {
    "_defaultOrder": 28,
    "_isFastLaunch": false,
    "category": "Compute optimized",
    "gpuNum": 0,
    "hideHardwareSpecs": false,
    "memoryGiB": 192,
    "name": "ml.c5.24xlarge",
    "vcpuNum": 96
   },
   {
    "_defaultOrder": 29,
    "_isFastLaunch": true,
    "category": "Accelerated computing",
    "gpuNum": 1,
    "hideHardwareSpecs": false,
    "memoryGiB": 16,
    "name": "ml.g4dn.xlarge",
    "vcpuNum": 4
   },
   {
    "_defaultOrder": 30,
    "_isFastLaunch": false,
    "category": "Accelerated computing",
    "gpuNum": 1,
    "hideHardwareSpecs": false,
    "memoryGiB": 32,
    "name": "ml.g4dn.2xlarge",
    "vcpuNum": 8
   },
   {
    "_defaultOrder": 31,
    "_isFastLaunch": false,
    "category": "Accelerated computing",
    "gpuNum": 1,
    "hideHardwareSpecs": false,
    "memoryGiB": 64,
    "name": "ml.g4dn.4xlarge",
    "vcpuNum": 16
   },
   {
    "_defaultOrder": 32,
    "_isFastLaunch": false,
    "category": "Accelerated computing",
    "gpuNum": 1,
    "hideHardwareSpecs": false,
    "memoryGiB": 128,
    "name": "ml.g4dn.8xlarge",
    "vcpuNum": 32
   },
   {
    "_defaultOrder": 33,
    "_isFastLaunch": false,
    "category": "Accelerated computing",
    "gpuNum": 4,
    "hideHardwareSpecs": false,
    "memoryGiB": 192,
    "name": "ml.g4dn.12xlarge",
    "vcpuNum": 48
   },
   {
    "_defaultOrder": 34,
    "_isFastLaunch": false,
    "category": "Accelerated computing",
    "gpuNum": 1,
    "hideHardwareSpecs": false,
    "memoryGiB": 256,
    "name": "ml.g4dn.16xlarge",
    "vcpuNum": 64
   },
   {
    "_defaultOrder": 35,
    "_isFastLaunch": false,
    "category": "Accelerated computing",
    "gpuNum": 1,
    "hideHardwareSpecs": false,
    "memoryGiB": 61,
    "name": "ml.p3.2xlarge",
    "vcpuNum": 8
   },
   {
    "_defaultOrder": 36,
    "_isFastLaunch": false,
    "category": "Accelerated computing",
    "gpuNum": 4,
    "hideHardwareSpecs": false,
    "memoryGiB": 244,
    "name": "ml.p3.8xlarge",
    "vcpuNum": 32
   },
   {
    "_defaultOrder": 37,
    "_isFastLaunch": false,
    "category": "Accelerated computing",
    "gpuNum": 8,
    "hideHardwareSpecs": false,
    "memoryGiB": 488,
    "name": "ml.p3.16xlarge",
    "vcpuNum": 64
   },
   {
    "_defaultOrder": 38,
    "_isFastLaunch": false,
    "category": "Accelerated computing",
    "gpuNum": 8,
    "hideHardwareSpecs": false,
    "memoryGiB": 768,
    "name": "ml.p3dn.24xlarge",
    "vcpuNum": 96
   },
   {
    "_defaultOrder": 39,
    "_isFastLaunch": false,
    "category": "Memory Optimized",
    "gpuNum": 0,
    "hideHardwareSpecs": false,
    "memoryGiB": 16,
    "name": "ml.r5.large",
    "vcpuNum": 2
   },
   {
    "_defaultOrder": 40,
    "_isFastLaunch": false,
    "category": "Memory Optimized",
    "gpuNum": 0,
    "hideHardwareSpecs": false,
    "memoryGiB": 32,
    "name": "ml.r5.xlarge",
    "vcpuNum": 4
   },
   {
    "_defaultOrder": 41,
    "_isFastLaunch": false,
    "category": "Memory Optimized",
    "gpuNum": 0,
    "hideHardwareSpecs": false,
    "memoryGiB": 64,
    "name": "ml.r5.2xlarge",
    "vcpuNum": 8
   },
   {
    "_defaultOrder": 42,
    "_isFastLaunch": false,
    "category": "Memory Optimized",
    "gpuNum": 0,
    "hideHardwareSpecs": false,
    "memoryGiB": 128,
    "name": "ml.r5.4xlarge",
    "vcpuNum": 16
   },
   {
    "_defaultOrder": 43,
    "_isFastLaunch": false,
    "category": "Memory Optimized",
    "gpuNum": 0,
    "hideHardwareSpecs": false,
    "memoryGiB": 256,
    "name": "ml.r5.8xlarge",
    "vcpuNum": 32
   },
   {
    "_defaultOrder": 44,
    "_isFastLaunch": false,
    "category": "Memory Optimized",
    "gpuNum": 0,
    "hideHardwareSpecs": false,
    "memoryGiB": 384,
    "name": "ml.r5.12xlarge",
    "vcpuNum": 48
   },
   {
    "_defaultOrder": 45,
    "_isFastLaunch": false,
    "category": "Memory Optimized",
    "gpuNum": 0,
    "hideHardwareSpecs": false,
    "memoryGiB": 512,
    "name": "ml.r5.16xlarge",
    "vcpuNum": 64
   },
   {
    "_defaultOrder": 46,
    "_isFastLaunch": false,
    "category": "Memory Optimized",
    "gpuNum": 0,
    "hideHardwareSpecs": false,
    "memoryGiB": 768,
    "name": "ml.r5.24xlarge",
    "vcpuNum": 96
   },
   {
    "_defaultOrder": 47,
    "_isFastLaunch": false,
    "category": "Accelerated computing",
    "gpuNum": 1,
    "hideHardwareSpecs": false,
    "memoryGiB": 16,
    "name": "ml.g5.xlarge",
    "vcpuNum": 4
   },
   {
    "_defaultOrder": 48,
    "_isFastLaunch": false,
    "category": "Accelerated computing",
    "gpuNum": 1,
    "hideHardwareSpecs": false,
    "memoryGiB": 32,
    "name": "ml.g5.2xlarge",
    "vcpuNum": 8
   },
   {
    "_defaultOrder": 49,
    "_isFastLaunch": false,
    "category": "Accelerated computing",
    "gpuNum": 1,
    "hideHardwareSpecs": false,
    "memoryGiB": 64,
    "name": "ml.g5.4xlarge",
    "vcpuNum": 16
   },
   {
    "_defaultOrder": 50,
    "_isFastLaunch": false,
    "category": "Accelerated computing",
    "gpuNum": 1,
    "hideHardwareSpecs": false,
    "memoryGiB": 128,
    "name": "ml.g5.8xlarge",
    "vcpuNum": 32
   },
   {
    "_defaultOrder": 51,
    "_isFastLaunch": false,
    "category": "Accelerated computing",
    "gpuNum": 1,
    "hideHardwareSpecs": false,
    "memoryGiB": 256,
    "name": "ml.g5.16xlarge",
    "vcpuNum": 64
   },
   {
    "_defaultOrder": 52,
    "_isFastLaunch": false,
    "category": "Accelerated computing",
    "gpuNum": 4,
    "hideHardwareSpecs": false,
    "memoryGiB": 192,
    "name": "ml.g5.12xlarge",
    "vcpuNum": 48
   },
   {
    "_defaultOrder": 53,
    "_isFastLaunch": false,
    "category": "Accelerated computing",
    "gpuNum": 4,
    "hideHardwareSpecs": false,
    "memoryGiB": 384,
    "name": "ml.g5.24xlarge",
    "vcpuNum": 96
   },
   {
    "_defaultOrder": 54,
    "_isFastLaunch": false,
    "category": "Accelerated computing",
    "gpuNum": 8,
    "hideHardwareSpecs": false,
    "memoryGiB": 768,
    "name": "ml.g5.48xlarge",
    "vcpuNum": 192
   },
   {
    "_defaultOrder": 55,
    "_isFastLaunch": false,
    "category": "Accelerated computing",
    "gpuNum": 8,
    "hideHardwareSpecs": false,
    "memoryGiB": 1152,
    "name": "ml.p4d.24xlarge",
    "vcpuNum": 96
   },
   {
    "_defaultOrder": 56,
    "_isFastLaunch": false,
    "category": "Accelerated computing",
    "gpuNum": 8,
    "hideHardwareSpecs": false,
    "memoryGiB": 1152,
    "name": "ml.p4de.24xlarge",
    "vcpuNum": 96
   },
   {
    "_defaultOrder": 57,
    "_isFastLaunch": false,
    "category": "Accelerated computing",
    "gpuNum": 0,
    "hideHardwareSpecs": false,
    "memoryGiB": 32,
    "name": "ml.trn1.2xlarge",
    "vcpuNum": 8
   },
   {
    "_defaultOrder": 58,
    "_isFastLaunch": false,
    "category": "Accelerated computing",
    "gpuNum": 0,
    "hideHardwareSpecs": false,
    "memoryGiB": 512,
    "name": "ml.trn1.32xlarge",
    "vcpuNum": 128
   },
   {
    "_defaultOrder": 59,
    "_isFastLaunch": false,
    "category": "Accelerated computing",
    "gpuNum": 0,
    "hideHardwareSpecs": false,
    "memoryGiB": 512,
    "name": "ml.trn1n.32xlarge",
    "vcpuNum": 128
   }
  ],
  "instance_type": "ml.t3.medium",
  "kernelspec": {
   "display_name": "Python 3 (Data Science 3.0)",
   "language": "python",
   "name": "python3__SAGEMAKER_INTERNAL__arn:aws:sagemaker:us-east-1:081325390199:image/sagemaker-data-science-310-v1"
  },
  "language_info": {
   "codemirror_mode": {
    "name": "ipython",
    "version": 3
   },
   "file_extension": ".py",
   "mimetype": "text/x-python",
   "name": "python",
   "nbconvert_exporter": "python",
   "pygments_lexer": "ipython3",
   "version": "3.10.6"
  }
 },
 "nbformat": 4,
 "nbformat_minor": 5
}
